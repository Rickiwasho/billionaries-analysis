{
 "cells": [
  {
   "cell_type": "markdown",
   "metadata": {},
   "source": [
    "# Tarea 2: ¿Es posible explicar la cantidad de billonarios en base al desarrollo país?  <a class=\"tocSkip\"></a>\n",
    "\n",
    "\n",
    "\n",
    "\n",
    "\n"
   ]
  },
  {
   "cell_type": "markdown",
   "metadata": {},
   "source": [
    "En 2006 *Daniel Treisman* publicó un artículo titulado [*Russia Billionaries*](https://pubs.aeaweb.org/doi/pdfplus/10.1257/aer.p20161068) en el cual conectó la cantidad de billonarios de un país con ciertos atributos económicos de los mismos. \n",
    "\n",
    "Su conclusión principal fue que ***Rusia tiene una cantidad de billonarios mayor que la que predicen los indicadores económicos***\n",
    "\n",
    "En esta tarea ustedes analizarán datos macroeconómicos para comprobar o refutar los hallazgos de *D. Treisman*"
   ]
  },
  {
   "cell_type": "markdown",
   "metadata": {},
   "source": [
    "## Instrucciones generales \n",
    "\n",
    "1. Forme un grupo de **máximo tres estudiantes**\n",
    "1. Versione su trabajo usando un **repositorio privado de github**. Agregue a sus compañeros y a su profesor (usuario github: phuijse) en la pestaña *Settings/Manage access*. No se aceptarán consultas de programación si no se cumple este requisito\n",
    "1. Su tarea se evaluará en base al último commit antes de la fecha de entrega: **14:10 del Martes 15 de Junio de 2021**. La nota se calcula como (\"pt totales\" + 1)\n",
    "1. [Sean leales y honestos](https://www.acm.org/about-acm/code-of-ethics-in-spanish), no copie ni comparta resultados con otros grupos"
   ]
  },
  {
   "cell_type": "markdown",
   "metadata": {},
   "source": [
    "## Datos\n",
    "\n",
    "Para esta tarea se les provee de un conjunto de datos `billonarios.csv` indexado por país con los siguientes atributos\n",
    "\n",
    "- `nbillonarios`: La cantidad de billonarios del pais\n",
    "- `logpibpc`: El logaritmo del Producto Interno Bruto (PIB) per capita del pais\n",
    "- `logpob`: El logaritmo de la población del pais\n",
    "- `gatt`: La cantidad de años que el pais está adherido al *General Agreement on Tariffs and Trade* (GATT)"
   ]
  },
  {
   "cell_type": "code",
   "execution_count": null,
   "metadata": {
    "scrolled": true
   },
   "outputs": [],
   "source": [
    "%matplotlib notebook\n",
    "import matplotlib.pyplot as plt\n",
    "import pandas as pd\n",
    "import numpy as np\n",
    "\n",
    "\n",
    "from scipy.optimize import minimize\n",
    "from scipy.stats import poisson\n",
    "import scipy\n",
    "import ipywidgets as widgets\n",
    "\n",
    "df = pd.read_csv(\"billonarios.csv\")\n",
    "df[49:].head()"
   ]
  },
  {
   "cell_type": "markdown",
   "metadata": {},
   "source": [
    "## Modelo (1.0pt)\n",
    "\n",
    "El objetivo principal de esta tarea es entrenar un modelo de regresión que prediga la cantidad de billonarios en función de los demás atributos\n",
    "\n",
    "> El número de billonarios es una variable entera y no-negativa. \n",
    "\n",
    "Un modelo apropiado en este caso es la [regresión de Poisson](https://en.wikipedia.org/wiki/Poisson_distribution), donde definimos la probabilidad condicional para un pais $i$ como  \n",
    "\n",
    "$$\n",
    "p(y_i | x_i ) = \\frac{\\lambda_i^{y_i}}{y_i!} \\exp \\left ({-\\lambda_i} \\right)\n",
    "$$\n",
    "\n",
    "con intensidad\n",
    "\n",
    "$$\n",
    "\\lambda_i = \\exp \\left (\\theta_0 + \\sum_{j=1}^M \\theta_j x_{ij} \\right)\n",
    "$$\n",
    "\n",
    "donde \n",
    "\n",
    "- $\\theta$ es el vector de parámetros que deseamos ajustar \n",
    "- $y_i$ y $x_i$ son la cantidad de billonarios y el vector de atributos del país $i$, respectivamente\n",
    "\n",
    "En base a este modelo se pide que ajusten $\\theta$ mediante la maximización de la verosimilitud. \n",
    "\n",
    "$$\n",
    "\\begin{align}\n",
    "\\hat \\theta &= \\text{arg}\\max_\\theta \\log \\mathcal{L} (\\theta) \\nonumber \\\\ \n",
    "&= \\text{arg}\\max_\\theta \\log \\prod_{i=1}^N  p(y_i | x_i) \\nonumber \\\\\n",
    "&= \\text{arg}\\max_\\theta \\sum_{i=1}^N \\log p(y_i | x_i) \\nonumber\n",
    "\\end{align}\n",
    "$$\n",
    "\n",
    "En particular:\n",
    "\n",
    "**1. Estudie y describa la distribución de Poisson en detalle. Muestre como varía la distribución en función de su parámetro $\\lambda$, ¿Qué ocurre cuando $\\lambda$ es pequeño? ¿Y cuando es grande?**\n",
    "\n",
    "La distribución de Poisson es una distribución de tipo discreta que permite modelar la probabilidad de que k fenómenos ocurran en un periodo fijo de tiempo (conociendo la tasa media (λ) de ocurrencia de estos). Además se supone que los tiempos entre ocurrencias son independientes entre sí y distribuidos exponencialmente. Esto significa que por ejemplo, si se conoce la tasa media de llegada de micros a un paradero (1 cada 15 minutos) y han transcurrido 5 minutos desde la última llegada, la probabilidad con la que se debe esperar 15 minutos para que llegue una nueva micro sigue siendo la misma que si hubieran transcurrido 0 minutos, o sea, los tiempos entre llegadas son independientes entre sí."
   ]
  },
  {
   "cell_type": "code",
   "execution_count": null,
   "metadata": {
    "scrolled": false
   },
   "outputs": [],
   "source": [
    "k = np.arange(0,26,1)\n",
    "fig, ax = plt.subplots(figsize=(8,4))\n",
    "@widgets.interact(λ=(0, 25, 0.5))\n",
    "def poissonMass(λ):\n",
    "    y = poisson.pmf(k,λ)\n",
    "    ax.cla()\n",
    "    ax.set_title(\"Función de masa de probabilidad de Poisson con λ = \" + str(λ))\n",
    "    ax.set_ylim([0, 1])\n",
    "    ax.set_ylabel(\"P(x = k)\")\n",
    "    ax.set_xlabel(\"Número de ocurrencias (k)\")\n",
    "    ax.plot(k,y)"
   ]
  },
  {
   "cell_type": "code",
   "execution_count": null,
   "metadata": {
    "scrolled": false
   },
   "outputs": [],
   "source": [
    "fig, ax = plt.subplots(figsize=(8,4))\n",
    "h = ax.hist(df.iloc[:,1],50,log=True)"
   ]
  },
  {
   "cell_type": "code",
   "execution_count": null,
   "metadata": {},
   "outputs": [],
   "source": [
    "print(\"Media y:\",np.mean(df.iloc[:,1]),\"Varianza y:\",np.var(df.iloc[:,1]))"
   ]
  },
  {
   "cell_type": "code",
   "execution_count": null,
   "metadata": {},
   "outputs": [],
   "source": [
    "# Varianza mucho mayor que la media, por lo tanto suponemos que habrá sobre dispersión"
   ]
  },
  {
   "cell_type": "markdown",
   "metadata": {},
   "source": [
    "Podemos ver que la distribución se asemeja a una distribución normal, cuya media o centro parece ser igual al parámetro λ. También podemos observar que a medida que λ aumenta, también lo hace la varianza.\n",
    "    \n",
    "**2. Reemplace las expresiones y obtenga una expresión analítica para el logaritmo de la verosimilitud: $\\log \\mathcal{L}(\\theta)$. Muestre la ecuación obtenida. HINT: Puede ignorar los términos que no dependan de $\\theta$. Luego obtenga una expresión analítica para la primera derivada del logaritmo de la verosimilitud. Muestra la ecuación obtenida**\n",
    "$$\n",
    "\\begin{align}\n",
    "\\log \\mathcal{L}(\\theta) &= \\sum_{i=1}^N \\log p(y_i | x_i) \\nonumber \\\\\n",
    "\\nonumber \\\\ \n",
    "&= \\sum_{i=1}^N \\log\\left(\\frac{\\lambda_i^{y_i}}{y_i!} e^{-\\lambda_i}\\right) \\nonumber \\\\\n",
    "\\text{Usamos propiedad logarítmica:} \\nonumber \\\\ \n",
    "\\log(a \\cdot b) = \\log(a) + \\log(b) \\nonumber \\\\ \n",
    "\\nonumber \\\\ \n",
    "&= \\sum_{i=1}^N \\left( \\log\\left(\\frac{\\lambda_i^{y_i}}{y_i!} \\right) + \\log\\left(e^{-\\lambda_i}\\right) \\right) \\nonumber \\\\\n",
    "&= \\sum_{i=1}^N \\left( \\log\\left(\\frac{\\lambda_i^{y_i}}{y_i!} \\right) - \\lambda_i \\right)  \\nonumber \\\\\n",
    "\\nonumber \\\\ \n",
    "\\text{Usamos propiedad logarítmica:} \\nonumber \\\\ \n",
    "\\log\\left(\\frac{a}{b}\\right) = \\log(a) - \\log(b) \\nonumber \\\\ \n",
    "\\nonumber \\\\ \n",
    "&= \\sum_{i=1}^N \\left( \\log\\left(\\lambda_i^{y_i}\\right) - \\log(y_i!) - \\lambda_i \\right)  \\nonumber \\\\\n",
    "\\nonumber \\\\ \n",
    "\\text{Reemplazamos } \\lambda_i \\nonumber \\\\\n",
    "\\nonumber \\\\ \n",
    "&= \\sum_{i=1}^N \\left( \\log \\left(\\left(e^{\\left(\\theta_0 + \\sum_{j=1}^M \\theta_j x_{ij}\\right)}\\right)^{y_i}\\right) - \\log(y_i!) - e^{\\left(\\theta_0 + \\sum_{j=1}^M \\theta_j x_{ij}\\right)} \\right) \\nonumber \\\\\n",
    "\\nonumber \\\\ \n",
    "\\text{Usamos propiedad exponencial:} \\nonumber \\\\ \n",
    "(e^{a})^{b} = e^{a \\cdot b} \\nonumber \\\\ \n",
    "\\nonumber \\\\ \n",
    "&= \\sum_{i=1}^N \\left( \\log \\left(e^{\\left(\\theta_0 + \\sum_{j=1}^M \\theta_j x_{ij}\\right)y_i}\\right) - \\log(y_i!) - e^{\\left(\\theta_0 + \\sum_{j=1}^M \\theta_j x_{ij}\\right)} \\right) \\nonumber \\\\\n",
    "&= \\sum_{i=1}^N \\left( (\\theta_0 + \\sum_{j=1}^M \\theta_j x_{ij}) y_i - \\log(y_i!) - e^{(\\theta_0 + \\sum_{j=1}^M \\theta_j x_{ij})} \\right) \\nonumber \\\\\n",
    "\\nonumber \\\\ \n",
    "\\text{Por último, podemos eliminar } \\log(y_i!) \\text{ ya que no depende de }\\theta \\nonumber \\\\\n",
    "\\nonumber \\\\ \n",
    "&= \\sum_{i=1}^N \\left( (\\theta_0 + \\sum_{j=1}^M \\theta_j x_{ij}) y_i - e^{(\\theta_0 + \\sum_{j=1}^M \\theta_j x_{ij})} \\right) \\nonumber \\\\\n",
    "\\end{align}\n",
    "$$"
   ]
  },
  {
   "cell_type": "markdown",
   "metadata": {},
   "source": [
    "### Derivada\n",
    "La derivada respecto a  $ \\theta_j$ con $\\text{j = 0}$ es:\n",
    "\n",
    "$$\n",
    "\\begin{align}\n",
    "\\frac{d}{d\\theta_0}\\log \\mathcal{L}(\\theta) &= \\sum_{i=1}^N\\left( y_i - e^{(\\theta_0 + \\sum_{j=1}^M \\theta_j x_{ij})} \\right) \\nonumber \\\\\n",
    "\\end{align}\n",
    "$$\n",
    "\n",
    "Y para $\\text{j > 0}$ es:\n",
    "\n",
    "$$\n",
    "\\begin{align}\n",
    "\\frac{d}{d\\theta_j}\\log \\mathcal{L}(\\theta) &= \\sum_{i=1}^N\\left( x_{ij} y_i - x_{ij}e^{(\\theta_0 + \\sum_{j=1}^M \\theta_j x_{ij})} \\right) \\nonumber \\\\\n",
    "\\end{align}\n",
    "$$"
   ]
  },
  {
   "cell_type": "markdown",
   "metadata": {},
   "source": [
    "## Implementación (1.5pt)\n",
    "\n",
    "**1. Implemente el logaritmo de la verosimilitud y su derivada usando `numpy`. Utilice operaciones vectoriales (prohibido usar `for` para iterar en los países)**\n"
   ]
  },
  {
   "cell_type": "code",
   "execution_count": null,
   "metadata": {},
   "outputs": [],
   "source": [
    "# Función de costo\n",
    "def loglikelihood(theta,*args):\n",
    "    y = args[0]\n",
    "    x = args[1]\n",
    "\n",
    "    p = theta[0] + np.sum(theta[1:]*x,axis=1)\n",
    "    sum1 = p*y\n",
    "    sum2 = np.exp(p)\n",
    "    \n",
    "    # Cambiamos signo para que se convierta en minimización\n",
    "    return -np.sum(sum1 - sum2)\n",
    "\n",
    "# Gradiente\n",
    "def grad_loglikelihood(theta,*args):\n",
    "    y = args[0]\n",
    "    x = args[1]\n",
    "    \n",
    "    res = np.array([0,0,0,0]).astype('float128')\n",
    "    \n",
    "    # j = 0\n",
    "    p = theta[0] + np.sum(theta[1:]*x,axis=1)\n",
    "    res[0] = np.sum(y-np.exp(p))\n",
    "    \n",
    "    # j > 0\n",
    "    res[1] = np.sum(x[:,0]*(y - np.exp(p)))\n",
    "    res[2] = np.sum(x[:,1]*(y - np.exp(p)))\n",
    "    res[3] = np.sum(x[:,2]*(y - np.exp(p)))\n",
    "    \n",
    "    return -res"
   ]
  },
  {
   "cell_type": "markdown",
   "metadata": {},
   "source": [
    "**2. Implemente una rutina que encuentre el vector de parámetros óptimo en base a `scipy.optimize.minimize`**\n"
   ]
  },
  {
   "cell_type": "code",
   "execution_count": null,
   "metadata": {},
   "outputs": [],
   "source": [
    "import warnings\n",
    "warnings.filterwarnings('ignore')\n",
    "\n",
    "# Nº de billonarios\n",
    "y = df.iloc[:,1].to_numpy().astype('float128')\n",
    "\n",
    "# Resto de variables\n",
    "x = df.iloc[:,2:].to_numpy().astype('float128')\n",
    "x_std = (x - np.mean(x,axis=0))/np.std(x,axis=0)\n",
    "    \n",
    "# Solución de theta inicial\n",
    "theta0 = np.array([0.0,0,0,0])#np.array([-29.049541,1.083856,1.171362,0.005968])# + np.random.randn()\n",
    "\n",
    "# Mejor valor de theta\n",
    "res = scipy.optimize.minimize(fun=loglikelihood,\n",
    "                                x0=theta0,\n",
    "                                method='BFGS',\n",
    "                                jac=grad_loglikelihood,\n",
    "                                args=(y,x_std),\n",
    "                                tol=1e-6)\n",
    "\n",
    "theta_best = np.array([-1.62704503,1.73933685,2.59760107,0.13179676])\n",
    "print(res)"
   ]
  },
  {
   "cell_type": "markdown",
   "metadata": {},
   "source": [
    "**3. Implemente una rutina que calcule el pseudo coeficiente de correlación\n",
    "$$\n",
    "R^2 = \\frac{\\log \\mathcal{L} (\\hat \\theta_0) - \\log \\mathcal{L} (\\hat \\theta) }{\\log \\mathcal{L} (\\hat \\theta_0)} \\in [0, 1]\n",
    "$$\n",
    "donde $\\log \\mathcal{L} (\\hat \\theta)$ es el logaritmo de la verosimilitud de su mejor modelo y $\\log \\mathcal{L} (\\hat \\theta_0)$ es el logaritmo de la verosimilitud de un modelo que tiene sólo el parámetro $\\theta_0$**\n"
   ]
  },
  {
   "cell_type": "code",
   "execution_count": null,
   "metadata": {},
   "outputs": [],
   "source": [
    "R_2 = (loglikelihood(theta0,y,x) - loglikelihood(theta_best,y,x_std))/loglikelihood(theta0,y,x)\n",
    "display(R_2)"
   ]
  },
  {
   "cell_type": "code",
   "execution_count": null,
   "metadata": {},
   "outputs": [],
   "source": [
    "def corrCoeficient(theta,*args):\n",
    "    th = theta.copy()\n",
    "    logVer = -loglikelihood(th,*args)\n",
    "    th[1:] = 0.0\n",
    "    logVer0 = -loglikelihood(th,*args)\n",
    "    return (logVer0 - logVer)/logVer0\n",
    "\n",
    "#corrCoeficient(theta_best,y,x_std)\n",
    "loglikelihood(theta_best,y,x_std)\n"
   ]
  },
  {
   "cell_type": "markdown",
   "metadata": {},
   "source": [
    "**4. Implemente una rutina de bootstrap resampling para encontrar la distribución y los intervalos de confianza empíricos para $\\theta$ y el pseudo coeficiente de correlación**"
   ]
  },
  {
   "cell_type": "code",
   "execution_count": null,
   "metadata": {},
   "outputs": [],
   "source": [
    "params = scipy.stats.linregress(x, y)\n",
    "\n",
    "def muestreo_con_reemplazo(x, y):\n",
    "    N = len(x)\n",
    "    idx = np.random.choice(N, size=N, replace=True)\n",
    "    return x[idx], y[idx]\n",
    "\n",
    "def boostrap_linregress(x, y, T=100):\n",
    "    # Parámetros: t0, t1 y r\n",
    "    params = np.zeros(shape=(T, 3)) \n",
    "    for t in range(T):\n",
    "        res = scipy.stats.linregress(*muestreo_con_reemplazo(x, y))\n",
    "        params[t, :] = [res.intercept, res.slope, res.rvalue]\n",
    "    return params\n",
    "\n",
    "boostrap_params = boostrap_linregress(x, y, T=1000)"
   ]
  },
  {
   "cell_type": "code",
   "execution_count": null,
   "metadata": {},
   "outputs": [],
   "source": [
    "r_bootstrap = boostrap_params[:, 2]\n",
    "\n",
    "fig, ax = plt.subplots(figsize=(4, 3), tight_layout=True)\n",
    "hist_val, hist_lim, _ = ax.hist(r_bootstrap, bins=20, density=True)\n",
    "\n",
    "ax.plot([params.rvalue]*2, [0, np.max(hist_val)], 'r-', lw=2)\n",
    "IC = np.percentile(r_bootstrap, [2.5, 97.5])\n",
    "ax.plot([IC[0]]*2, [0, np.max(hist_val)], 'k--', lw=2)\n",
    "ax.plot([IC[1]]*2, [0, np.max(hist_val)], 'k--', lw=2)\n",
    "\n",
    "print(f\"Intervalo de confianza al 95% de r: {IC}\")"
   ]
  },
  {
   "cell_type": "markdown",
   "metadata": {},
   "source": [
    "## Resultados (3pt)\n",
    "\n",
    "**1. Compare los métodos `CG`, `BFGS`, `Nelder-mead` y `Powell` en términos del vector de parámetros obtenido, la log verosimilitud alcanzada, el pseudo coeficiente de correlación alcanzado, el número de iteraciones necesarias para converger y el tiempo total para converger. Seleccione uno de los métodos para contestar los siguientes puntos**"
   ]
  },
  {
   "cell_type": "code",
   "execution_count": null,
   "metadata": {},
   "outputs": [],
   "source": []
  },
  {
   "cell_type": "markdown",
   "metadata": {},
   "source": [
    "**2. Muestre las distribuciones empíricas de los parámetros y del pseudo coeficiente de correlación. ¿Cuáles parámetros tienen $\\theta$ significativamente distinto de cero? ¿Cuál es el intervalo de confianza al 95% del $R^2$? En base a esto ¿Qué puede decir sobre su modelo?**\n"
   ]
  },
  {
   "cell_type": "code",
   "execution_count": null,
   "metadata": {},
   "outputs": [],
   "source": []
  },
  {
   "cell_type": "markdown",
   "metadata": {},
   "source": [
    "**3. Prediga la cantidad de billonarios de cada país usando su modelo. Gráfique el error entre la cantidad de billonarios predicha y la cantidad de billonarios real. El gráfico debe mostrar los paises ordenados de mayor a menor** <span style=\"color:red\">error absoluto</span>. **Analice ¿Cuáles son los 5 países con mayor error en la predicción? ¿Cuáles países tienen un exceso de billonarios? ¿Cúales paises tienen menos billonarios de lo esperado? ¿Qué puede decir sobre Rusia?**\n"
   ]
  },
  {
   "cell_type": "code",
   "execution_count": null,
   "metadata": {},
   "outputs": [],
   "source": []
  },
  {
   "cell_type": "markdown",
   "metadata": {},
   "source": [
    "## Conclusiones (0.5pt)\n",
    "\n",
    "Resuma sus principales hallazgos y comenté sobre las desafios encontrados al desarrollar esta tarea "
   ]
  },
  {
   "cell_type": "code",
   "execution_count": null,
   "metadata": {},
   "outputs": [],
   "source": []
  },
  {
   "cell_type": "code",
   "execution_count": null,
   "metadata": {},
   "outputs": [],
   "source": [
    "# Pruebas\n",
    "a = np.array([2,2,2,2])\n",
    "b = np.array([[1,2,1,1],[1,1,1,1]])\n",
    "y = np.array([2,3])\n",
    "x = np.sum(b,axis=1)\n",
    "print(x)\n",
    "print(x*y)"
   ]
  },
  {
   "cell_type": "code",
   "execution_count": null,
   "metadata": {},
   "outputs": [],
   "source": [
    "plt.hist(df.iloc[:,1].to_numpy(),50,log=True)"
   ]
  },
  {
   "cell_type": "code",
   "execution_count": null,
   "metadata": {},
   "outputs": [],
   "source": [
    "import warnings\n",
    "warnings.filterwarnings('ignore')\n",
    "\n",
    "minErr = 1e1000\n",
    "minLog = 1e1000\n",
    "bestThe = None\n",
    "def erro(the,y,x_std):\n",
    "    return np.sum(np.abs(y - np.e**(the[0] + np.sum(the[1:]*x_std,axis=1))))\n",
    "\n",
    "# Nº de billonarios\n",
    "y = df.iloc[:,1].to_numpy().astype('float128')\n",
    "\n",
    "# Resto de variables\n",
    "x = df.iloc[:,2:].to_numpy().astype('float128')\n",
    "x_std = (x - np.mean(x,axis=0))/np.std(x,axis=0)\n",
    "    \n",
    "for i in range(1000):\n",
    "    # Solución de theta inicial\n",
    "    theta0 = np.array([-1.62704503,1.73933685,2.59760107,0.13179676])# + 1.0*np.random.rand(4).astype('float128')\n",
    "\n",
    "    # Mejor valor de theta\n",
    "    res = scipy.optimize.minimize(fun=loglikelihood,\n",
    "                                    x0=theta0,\n",
    "                                    method='BFGS',\n",
    "                                    jac=grad_loglikelihood,\n",
    "                                    args=(y,x_std),\n",
    "                                    tol=1e-8)\n",
    "    if res.success == True:\n",
    "        best_theta = res.x\n",
    "        cErr = erro(best_theta,y,x_std)\n",
    "        if  res.fun < minLog:\n",
    "            minlog = res.fun\n",
    "            minErr = cErr\n",
    "            bestThe = best_theta\n",
    "            print(minErr,res.fun,bestThe)\n",
    "        \n",
    "        \n",
    "    #f = corrCoeficient(best_theta,y,x_std)\n",
    "    #if f >= 0 and f <= 0.22158944589163323481:\n",
    "       # print(f,theta0)\n",
    "#for i in range(len(y)):\n",
    "    #y_pred = np.e**(best_theta[0] + np.sum(best_theta[1:]*x_std[i,:]))\n",
    "    #print(\"Real:\",int(y[i]),\"Pred:\",int(y_pred))\n",
    "\n"
   ]
  },
  {
   "cell_type": "code",
   "execution_count": null,
   "metadata": {},
   "outputs": [],
   "source": [
    "best = np.array([-29.049541,1.083856,1.171362,0.005968])\n",
    "for i in range(len(y)):\n",
    "    y_pred = np.e**(best[0] + np.sum(best[1:]*x[i,:]))\n",
    "    print(df.iloc[i,0],\"Real:\",int(y[i]),\"Pred:\",int(y_pred))"
   ]
  },
  {
   "cell_type": "code",
   "execution_count": null,
   "metadata": {},
   "outputs": [],
   "source": [
    "best = theta_best\n",
    "for i in range(len(y)):\n",
    "    y_pred = np.e**(best[0] + np.sum(best[1:]*x_std[i,:]))\n",
    "    print(df.iloc[i,0],\"Real:\",int(y[i]),\"Pred:\",int(y_pred))"
   ]
  },
  {
   "cell_type": "code",
   "execution_count": null,
   "metadata": {},
   "outputs": [],
   "source": []
  }
 ],
 "metadata": {
  "kernelspec": {
   "display_name": "Python 3",
   "language": "python",
   "name": "python3"
  },
  "language_info": {
   "codemirror_mode": {
    "name": "ipython",
    "version": 3
   },
   "file_extension": ".py",
   "mimetype": "text/x-python",
   "name": "python",
   "nbconvert_exporter": "python",
   "pygments_lexer": "ipython3",
   "version": "3.8.5"
  },
  "toc": {
   "base_numbering": 1,
   "nav_menu": {},
   "number_sections": true,
   "sideBar": true,
   "skip_h1_title": false,
   "title_cell": "Table of Contents",
   "title_sidebar": "Contents",
   "toc_cell": false,
   "toc_position": {},
   "toc_section_display": true,
   "toc_window_display": false
  }
 },
 "nbformat": 4,
 "nbformat_minor": 4
}
